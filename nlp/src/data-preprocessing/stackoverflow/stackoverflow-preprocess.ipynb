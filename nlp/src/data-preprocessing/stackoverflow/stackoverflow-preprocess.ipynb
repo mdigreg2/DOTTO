{
 "cells": [
  {
   "cell_type": "code",
   "execution_count": 29,
   "metadata": {},
   "outputs": [],
   "source": [
    "from google.cloud import bigquery\n",
    "from BigQueryHelper import BigQueryHelper as bqh\n",
    "import os\n",
    "import pandas as pd\n",
    "import json"
   ]
  },
  {
   "cell_type": "code",
   "execution_count": 30,
   "metadata": {},
   "outputs": [],
   "source": [
    "pathToRoot = '../../../'\n",
    "client = bigquery.Client.from_service_account_json(os.path.join(pathToRoot, 'credentials/rescribe-nlp-creds.txt'))"
   ]
  },
  {
   "cell_type": "code",
   "execution_count": 31,
   "metadata": {},
   "outputs": [
    {
     "output_type": "execute_result",
     "data": {
      "text/plain": "['badges',\n 'comments',\n 'post_history',\n 'post_links',\n 'posts_answers',\n 'posts_moderator_nomination',\n 'posts_orphaned_tag_wiki',\n 'posts_privilege_wiki',\n 'posts_questions',\n 'posts_tag_wiki',\n 'posts_tag_wiki_excerpt',\n 'posts_wiki_placeholder',\n 'stackoverflow_posts',\n 'tags',\n 'users',\n 'votes']"
     },
     "metadata": {},
     "execution_count": 31
    }
   ],
   "source": [
    "data = bqh(active_project=\"bigquery-public-data\",\n",
    "            dataset_name=\"stackoverflow\", \n",
    "            client=client)\n",
    "\n",
    "data.list_tables()"
   ]
  },
  {
   "cell_type": "code",
   "execution_count": 32,
   "metadata": {},
   "outputs": [],
   "source": [
    "#Ok, so what we want are the query titles, the query descriptions, the code from the top answer, and the tags associated with it\n",
    "#Note: individual tables in this dataset blow past 30 gigs\n",
    "\n",
    "QUERY = \"\"\"\n",
    "SELECT \n",
    "    id, title, body, accepted_answer_id\n",
    "FROM \n",
    "    bigquery-public-data.stackoverflow.posts_questions\n",
    "WHERE accepted_answer_id IS NOT NULL\n",
    "LIMIT 10000\n",
    "\n",
    "\"\"\"\n",
    "questions = data.query_to_pandas(QUERY)"
   ]
  },
  {
   "cell_type": "code",
   "execution_count": 33,
   "metadata": {},
   "outputs": [
    {
     "output_type": "stream",
     "name": "stdout",
     "text": "Number of rows: 10000\n"
    },
    {
     "output_type": "execute_result",
     "data": {
      "text/plain": "            id                                              title  \\\n4085  61990203         javascript dynamic filters with OR results   \n3689  61814697  Queryset for ManyToMany relation ordered by nu...   \n7256  61789308  Best practice to delete old MetricBeats data i...   \n3099  61837435  Call to a member function checkLearning() on n...   \n7874  62047149  Unable to use custom domain on localhost using...   \n\n                                                   body  accepted_answer_id  \n4085  <p>I have an array of objects with multiple fi...            61990316  \n3689  <p>I have two models, Entity and Tag with a Ma...            61816560  \n7256  <p>How do we best delete old data collected vi...            61790045  \n3099  <p>hello i use this method but not worked on v...            61838050  \n7874  <p>I want to use a custom domain for my larave...            62047383  ",
      "text/html": "<div>\n<style scoped>\n    .dataframe tbody tr th:only-of-type {\n        vertical-align: middle;\n    }\n\n    .dataframe tbody tr th {\n        vertical-align: top;\n    }\n\n    .dataframe thead th {\n        text-align: right;\n    }\n</style>\n<table border=\"1\" class=\"dataframe\">\n  <thead>\n    <tr style=\"text-align: right;\">\n      <th></th>\n      <th>id</th>\n      <th>title</th>\n      <th>body</th>\n      <th>accepted_answer_id</th>\n    </tr>\n  </thead>\n  <tbody>\n    <tr>\n      <th>4085</th>\n      <td>61990203</td>\n      <td>javascript dynamic filters with OR results</td>\n      <td>&lt;p&gt;I have an array of objects with multiple fi...</td>\n      <td>61990316</td>\n    </tr>\n    <tr>\n      <th>3689</th>\n      <td>61814697</td>\n      <td>Queryset for ManyToMany relation ordered by nu...</td>\n      <td>&lt;p&gt;I have two models, Entity and Tag with a Ma...</td>\n      <td>61816560</td>\n    </tr>\n    <tr>\n      <th>7256</th>\n      <td>61789308</td>\n      <td>Best practice to delete old MetricBeats data i...</td>\n      <td>&lt;p&gt;How do we best delete old data collected vi...</td>\n      <td>61790045</td>\n    </tr>\n    <tr>\n      <th>3099</th>\n      <td>61837435</td>\n      <td>Call to a member function checkLearning() on n...</td>\n      <td>&lt;p&gt;hello i use this method but not worked on v...</td>\n      <td>61838050</td>\n    </tr>\n    <tr>\n      <th>7874</th>\n      <td>62047149</td>\n      <td>Unable to use custom domain on localhost using...</td>\n      <td>&lt;p&gt;I want to use a custom domain for my larave...</td>\n      <td>62047383</td>\n    </tr>\n  </tbody>\n</table>\n</div>"
     },
     "metadata": {},
     "execution_count": 33
    }
   ],
   "source": [
    "print(f\"Number of rows: {len(questions)}\")\n",
    "questions.sample(5)"
   ]
  },
  {
   "cell_type": "code",
   "execution_count": 34,
   "metadata": {},
   "outputs": [],
   "source": [
    "with open(os.path.join(pathToRoot,\"datasets/post-questions.json\"), 'w') as outfile: \n",
    "    json.dump(questions.to_json(), outfile)"
   ]
  },
  {
   "cell_type": "code",
   "execution_count": 35,
   "metadata": {},
   "outputs": [],
   "source": [
    "#alright, time for the answers\n",
    "QUERY = f\"\"\"\n",
    "SELECT \n",
    "    id, body\n",
    "FROM \n",
    "    bigquery-public-data.stackoverflow.posts_answers\n",
    "WHERE id IN {tuple(questions.accepted_answer_id.values)}\n",
    "LIMIT 10000\n",
    "\"\"\"\n",
    "\n",
    "answers = data.query_to_pandas(QUERY)"
   ]
  },
  {
   "cell_type": "code",
   "execution_count": 36,
   "metadata": {},
   "outputs": [
    {
     "output_type": "stream",
     "name": "stdout",
     "text": "Number of rows: 10000\n"
    },
    {
     "output_type": "execute_result",
     "data": {
      "text/plain": "            id                                               body\n6268  61956718  <p>@pdeuxa you need to configure the SSLContex...\n5064  61973028  <p>I'm not 100% sure how Process works in this...\n6172  61802282  <p>This is <em>not a Docusaurus issue</em>.</p...\n6479  61812034  <p>Yes, they are. According to <a href=\"https:...\n2921  61987155  <p>You can set <code>background</code> propert...",
      "text/html": "<div>\n<style scoped>\n    .dataframe tbody tr th:only-of-type {\n        vertical-align: middle;\n    }\n\n    .dataframe tbody tr th {\n        vertical-align: top;\n    }\n\n    .dataframe thead th {\n        text-align: right;\n    }\n</style>\n<table border=\"1\" class=\"dataframe\">\n  <thead>\n    <tr style=\"text-align: right;\">\n      <th></th>\n      <th>id</th>\n      <th>body</th>\n    </tr>\n  </thead>\n  <tbody>\n    <tr>\n      <th>6268</th>\n      <td>61956718</td>\n      <td>&lt;p&gt;@pdeuxa you need to configure the SSLContex...</td>\n    </tr>\n    <tr>\n      <th>5064</th>\n      <td>61973028</td>\n      <td>&lt;p&gt;I'm not 100% sure how Process works in this...</td>\n    </tr>\n    <tr>\n      <th>6172</th>\n      <td>61802282</td>\n      <td>&lt;p&gt;This is &lt;em&gt;not a Docusaurus issue&lt;/em&gt;.&lt;/p...</td>\n    </tr>\n    <tr>\n      <th>6479</th>\n      <td>61812034</td>\n      <td>&lt;p&gt;Yes, they are. According to &lt;a href=\"https:...</td>\n    </tr>\n    <tr>\n      <th>2921</th>\n      <td>61987155</td>\n      <td>&lt;p&gt;You can set &lt;code&gt;background&lt;/code&gt; propert...</td>\n    </tr>\n  </tbody>\n</table>\n</div>"
     },
     "metadata": {},
     "execution_count": 36
    }
   ],
   "source": [
    "print(f\"Number of rows: {len(answers)}\")\n",
    "answers.sample(5)"
   ]
  },
  {
   "cell_type": "code",
   "execution_count": null,
   "metadata": {},
   "outputs": [],
   "source": [
    "with open(os.path.join(pathToRoot,\"datasets/post-answers.json\"), 'w') as outfile: \n",
    "    json.dump(answers.to_json(), outfile)"
   ]
  }
 ],
 "metadata": {
  "language_info": {
   "codemirror_mode": {
    "name": "ipython",
    "version": 3
   },
   "file_extension": ".py",
   "mimetype": "text/x-python",
   "name": "python",
   "nbconvert_exporter": "python",
   "pygments_lexer": "ipython3",
   "version": "3.7.7-final"
  },
  "orig_nbformat": 2,
  "kernelspec": {
   "name": "python37764bitrnlpptconda2b08e866b02442bcb7052849d949335e",
   "display_name": "Python 3.7.7 64-bit ('rnlppt': conda)"
  }
 },
 "nbformat": 4,
 "nbformat_minor": 2
}