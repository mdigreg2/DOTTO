{
 "cells": [
  {
   "cell_type": "code",
   "execution_count": 37,
   "metadata": {},
   "outputs": [],
   "source": [
    "from google.cloud import bigquery\n",
    "from BigQueryHelper import BigQueryHelper as bqh\n",
    "import os\n",
    "import pandas as pd\n",
    "import json\n",
    "import numpy as np"
   ]
  },
  {
   "cell_type": "code",
   "execution_count": 38,
   "metadata": {},
   "outputs": [],
   "source": [
    "pathToRoot = '../../../'\n",
    "client = bigquery.Client.from_service_account_json(os.path.join(pathToRoot, 'credentials/rescribe-nlp-creds.txt'))\n",
    "datasetLength = 10000"
   ]
  },
  {
   "cell_type": "code",
   "execution_count": 39,
   "metadata": {},
   "outputs": [
    {
     "output_type": "execute_result",
     "data": {
      "text/plain": "['badges',\n 'comments',\n 'post_history',\n 'post_links',\n 'posts_answers',\n 'posts_moderator_nomination',\n 'posts_orphaned_tag_wiki',\n 'posts_privilege_wiki',\n 'posts_questions',\n 'posts_tag_wiki',\n 'posts_tag_wiki_excerpt',\n 'posts_wiki_placeholder',\n 'stackoverflow_posts',\n 'tags',\n 'users',\n 'votes']"
     },
     "metadata": {},
     "execution_count": 39
    }
   ],
   "source": [
    "data = bqh(active_project=\"bigquery-public-data\",\n",
    "            dataset_name=\"stackoverflow\", \n",
    "            client=client)\n",
    "\n",
    "data.list_tables()"
   ]
  },
  {
   "cell_type": "code",
   "execution_count": 40,
   "metadata": {},
   "outputs": [],
   "source": [
    "#Ok, so what we want are the query titles, the query descriptions, the code from the top answer, and the tags associated with it\n",
    "#Note: individual tables in this dataset blow past 30 gigs\n",
    "\n",
    "QUERY = f\"\"\"\n",
    "SELECT \n",
    "    id, title, body, accepted_answer_id, tags\n",
    "FROM \n",
    "    bigquery-public-data.stackoverflow.posts_questions\n",
    "WHERE accepted_answer_id IS NOT NULL AND tags IS NOT NULL\n",
    "LIMIT {datasetLength}\n",
    "\n",
    "\"\"\"\n",
    "questions = data.query_to_pandas(QUERY)"
   ]
  },
  {
   "cell_type": "code",
   "execution_count": 41,
   "metadata": {},
   "outputs": [
    {
     "output_type": "stream",
     "name": "stdout",
     "text": "id                     int64\ntitle                 object\nbody                  object\naccepted_answer_id     int64\ntags                  object\ndtype: object\nNumber of rows: 10000\n"
    },
    {
     "output_type": "execute_result",
     "data": {
      "text/plain": "            id                                              title  \\\n6107  61952927          How PigStorage is used in Hadoop and Why?   \n9942  61990435  How we can Iterate within a particular row wit...   \n9944  61996477  Pandas apply to create multiple columns, using...   \n9203  62073725  Repeatedly compare same portion of dataset to ...   \n8574  61792745  How to build new object using keys from array ...   \n\n                                                   body  accepted_answer_id  \\\n6107  <p>I got a quite confused as why we need anoth...            61964910   \n9942  <p>I have a data frame named df_cp which has t...            61990641   \n9944  <p>I am trying to use a function to create mul...            61996488   \n9203  <p>I have a dataframe that looks like the foll...            62073752   \n8574  <p>I have this array of keys:</p>\\n\\n<p><code>...            61793248   \n\n                                                   tags  \n6107                                  hadoop|apache-pig  \n9942                                      python|pandas  \n9944                                      python|pandas  \n9203                      r|loops|dplyr|apply|tidyverse  \n8574  javascript|arrays|ecmascript-6|javascript-objects  ",
      "text/html": "<div>\n<style scoped>\n    .dataframe tbody tr th:only-of-type {\n        vertical-align: middle;\n    }\n\n    .dataframe tbody tr th {\n        vertical-align: top;\n    }\n\n    .dataframe thead th {\n        text-align: right;\n    }\n</style>\n<table border=\"1\" class=\"dataframe\">\n  <thead>\n    <tr style=\"text-align: right;\">\n      <th></th>\n      <th>id</th>\n      <th>title</th>\n      <th>body</th>\n      <th>accepted_answer_id</th>\n      <th>tags</th>\n    </tr>\n  </thead>\n  <tbody>\n    <tr>\n      <th>6107</th>\n      <td>61952927</td>\n      <td>How PigStorage is used in Hadoop and Why?</td>\n      <td>&lt;p&gt;I got a quite confused as why we need anoth...</td>\n      <td>61964910</td>\n      <td>hadoop|apache-pig</td>\n    </tr>\n    <tr>\n      <th>9942</th>\n      <td>61990435</td>\n      <td>How we can Iterate within a particular row wit...</td>\n      <td>&lt;p&gt;I have a data frame named df_cp which has t...</td>\n      <td>61990641</td>\n      <td>python|pandas</td>\n    </tr>\n    <tr>\n      <th>9944</th>\n      <td>61996477</td>\n      <td>Pandas apply to create multiple columns, using...</td>\n      <td>&lt;p&gt;I am trying to use a function to create mul...</td>\n      <td>61996488</td>\n      <td>python|pandas</td>\n    </tr>\n    <tr>\n      <th>9203</th>\n      <td>62073725</td>\n      <td>Repeatedly compare same portion of dataset to ...</td>\n      <td>&lt;p&gt;I have a dataframe that looks like the foll...</td>\n      <td>62073752</td>\n      <td>r|loops|dplyr|apply|tidyverse</td>\n    </tr>\n    <tr>\n      <th>8574</th>\n      <td>61792745</td>\n      <td>How to build new object using keys from array ...</td>\n      <td>&lt;p&gt;I have this array of keys:&lt;/p&gt;\\n\\n&lt;p&gt;&lt;code&gt;...</td>\n      <td>61793248</td>\n      <td>javascript|arrays|ecmascript-6|javascript-objects</td>\n    </tr>\n  </tbody>\n</table>\n</div>"
     },
     "metadata": {},
     "execution_count": 41
    }
   ],
   "source": [
    "print(questions.dtypes)\n",
    "print(f\"Number of rows: {len(questions)}\")\n",
    "questions.sample(5)"
   ]
  },
  {
   "cell_type": "code",
   "execution_count": 42,
   "metadata": {},
   "outputs": [],
   "source": [
    "with open(os.path.join(pathToRoot,\"datasets/post-questions.json\"), 'w') as outfile: \n",
    "    json.dump(questions.to_json(), outfile)"
   ]
  },
  {
   "cell_type": "code",
   "execution_count": 43,
   "metadata": {},
   "outputs": [],
   "source": [
    "#alright, time for the answers\n",
    "QUERY = f\"\"\"\n",
    "SELECT \n",
    "    id, body, parent_id\n",
    "FROM \n",
    "    bigquery-public-data.stackoverflow.posts_answers\n",
    "WHERE id IN {tuple(questions.accepted_answer_id.values)} AND parent_id IS NOT NULL\n",
    "LIMIT {datasetLength}\n",
    "\"\"\"\n",
    "\n",
    "answers = data.query_to_pandas(QUERY)"
   ]
  },
  {
   "cell_type": "code",
   "execution_count": 44,
   "metadata": {},
   "outputs": [
    {
     "output_type": "stream",
     "name": "stdout",
     "text": "id            int64\nbody         object\nparent_id     int64\ndtype: object\nNumber of rows: 10000\n"
    },
    {
     "output_type": "execute_result",
     "data": {
      "text/plain": "            id                                               body  parent_id\n9807  61801746  <p>This:</p>\\n\\n<pre><code>df.loc[df['GDP'].id...   61801654\n4878  62065862  <p>Neither Spring Data R2DBC nor R2DBC Postgre...   62042888\n650   61981121  <p>Never got why the above XML gave me all 0's...   61830044\n1346  61844655  <p>Your code has some seriously flawed logic. ...   61824735\n6636  61866442  <p>What you are looking for is the <code>flex-...   61860652",
      "text/html": "<div>\n<style scoped>\n    .dataframe tbody tr th:only-of-type {\n        vertical-align: middle;\n    }\n\n    .dataframe tbody tr th {\n        vertical-align: top;\n    }\n\n    .dataframe thead th {\n        text-align: right;\n    }\n</style>\n<table border=\"1\" class=\"dataframe\">\n  <thead>\n    <tr style=\"text-align: right;\">\n      <th></th>\n      <th>id</th>\n      <th>body</th>\n      <th>parent_id</th>\n    </tr>\n  </thead>\n  <tbody>\n    <tr>\n      <th>9807</th>\n      <td>61801746</td>\n      <td>&lt;p&gt;This:&lt;/p&gt;\\n\\n&lt;pre&gt;&lt;code&gt;df.loc[df['GDP'].id...</td>\n      <td>61801654</td>\n    </tr>\n    <tr>\n      <th>4878</th>\n      <td>62065862</td>\n      <td>&lt;p&gt;Neither Spring Data R2DBC nor R2DBC Postgre...</td>\n      <td>62042888</td>\n    </tr>\n    <tr>\n      <th>650</th>\n      <td>61981121</td>\n      <td>&lt;p&gt;Never got why the above XML gave me all 0's...</td>\n      <td>61830044</td>\n    </tr>\n    <tr>\n      <th>1346</th>\n      <td>61844655</td>\n      <td>&lt;p&gt;Your code has some seriously flawed logic. ...</td>\n      <td>61824735</td>\n    </tr>\n    <tr>\n      <th>6636</th>\n      <td>61866442</td>\n      <td>&lt;p&gt;What you are looking for is the &lt;code&gt;flex-...</td>\n      <td>61860652</td>\n    </tr>\n  </tbody>\n</table>\n</div>"
     },
     "metadata": {},
     "execution_count": 44
    }
   ],
   "source": [
    "print(answers.dtypes)\n",
    "print(f\"Number of rows: {len(answers)}\")\n",
    "answers.sample(5)"
   ]
  },
  {
   "cell_type": "code",
   "execution_count": 45,
   "metadata": {},
   "outputs": [],
   "source": [
    "with open(os.path.join(pathToRoot,\"datasets/post-answers.json\"), 'w') as outfile: \n",
    "    json.dump(answers.to_json(), outfile)"
   ]
  },
  {
   "cell_type": "code",
   "execution_count": 46,
   "metadata": {},
   "outputs": [],
   "source": [
    "#and now time for the tags\n",
    "QUERY = f\"\"\"\n",
    "SELECT\n",
    "    id, tag_name, count, excerpt_post_id, wiki_post_id\n",
    "FROM \n",
    "     bigquery-public-data.stackoverflow.tags\n",
    "WHERE excerpt_post_id IS NOT NULL AND wiki_post_id IS NOT NULL\n",
    "ORDER BY \n",
    "    count DESC\n",
    "LIMIT {datasetLength}\n",
    "\"\"\"\n",
    "\n",
    "tags = data.query_to_pandas(QUERY)"
   ]
  },
  {
   "cell_type": "code",
   "execution_count": 47,
   "metadata": {},
   "outputs": [
    {
     "output_type": "stream",
     "name": "stdout",
     "text": "id                  int64\ntag_name           object\ncount               int64\nexcerpt_post_id     int64\nwiki_post_id        int64\ndtype: object\nNumber of rows: 10000\n"
    },
    {
     "output_type": "execute_result",
     "data": {
      "text/plain": "   id    tag_name    count  excerpt_post_id  wiki_post_id\n0   3  javascript  2018353          3624960       3607052\n1  17        java  1678103          3624966       3607018\n2  16      python  1444269          3624965       3607014\n3   9          c#  1409903          3624962       3607007\n4   5         php  1353178          3624936       3607050",
      "text/html": "<div>\n<style scoped>\n    .dataframe tbody tr th:only-of-type {\n        vertical-align: middle;\n    }\n\n    .dataframe tbody tr th {\n        vertical-align: top;\n    }\n\n    .dataframe thead th {\n        text-align: right;\n    }\n</style>\n<table border=\"1\" class=\"dataframe\">\n  <thead>\n    <tr style=\"text-align: right;\">\n      <th></th>\n      <th>id</th>\n      <th>tag_name</th>\n      <th>count</th>\n      <th>excerpt_post_id</th>\n      <th>wiki_post_id</th>\n    </tr>\n  </thead>\n  <tbody>\n    <tr>\n      <th>0</th>\n      <td>3</td>\n      <td>javascript</td>\n      <td>2018353</td>\n      <td>3624960</td>\n      <td>3607052</td>\n    </tr>\n    <tr>\n      <th>1</th>\n      <td>17</td>\n      <td>java</td>\n      <td>1678103</td>\n      <td>3624966</td>\n      <td>3607018</td>\n    </tr>\n    <tr>\n      <th>2</th>\n      <td>16</td>\n      <td>python</td>\n      <td>1444269</td>\n      <td>3624965</td>\n      <td>3607014</td>\n    </tr>\n    <tr>\n      <th>3</th>\n      <td>9</td>\n      <td>c#</td>\n      <td>1409903</td>\n      <td>3624962</td>\n      <td>3607007</td>\n    </tr>\n    <tr>\n      <th>4</th>\n      <td>5</td>\n      <td>php</td>\n      <td>1353178</td>\n      <td>3624936</td>\n      <td>3607050</td>\n    </tr>\n  </tbody>\n</table>\n</div>"
     },
     "metadata": {},
     "execution_count": 47
    }
   ],
   "source": [
    "# tags = tags.astype({'excerpt_post_id': np.int64, 'wiki_post_id': np.int64}, errors='ignore')\n",
    "print(tags.dtypes)\n",
    "print(f\"Number of rows: {len(tags)}\")\n",
    "tags.head(5)"
   ]
  },
  {
   "cell_type": "code",
   "execution_count": 48,
   "metadata": {},
   "outputs": [],
   "source": [
    "with open(os.path.join(pathToRoot, \"datasets/tags.json\"), 'w') as outfile:\n",
    "    json.dump(tags.to_json(), outfile)"
   ]
  },
  {
   "cell_type": "code",
   "execution_count": 49,
   "metadata": {},
   "outputs": [],
   "source": [
    "#and now for the tag exerpt, this is a shortened version of the wiki. \n",
    "QUERY = f\"\"\"\n",
    "SELECT\n",
    "  id, body\n",
    "FROM \n",
    "  bigquery-public-data.stackoverflow.posts_tag_wiki_excerpt\n",
    "WHERE id IN {tuple(tags.excerpt_post_id.values)}\n",
    "LIMIT {datasetLength}\n",
    "\n",
    "\"\"\"\n",
    "\n",
    "tag_excerpts = data.query_to_pandas(QUERY)"
   ]
  },
  {
   "cell_type": "code",
   "execution_count": 50,
   "metadata": {},
   "outputs": [
    {
     "output_type": "stream",
     "name": "stdout",
     "text": "id       int64\nbody    object\ndtype: object\nNumber of rows: 10000\n"
    },
    {
     "output_type": "execute_result",
     "data": {
      "text/plain": "            id                                               body\n524   47895109  Font Awesome 5. This tag is for questions rela...\n5038  14332231  The Kendo Grid is a Kendo widget that displays...\n8235   6053980  A weak reference is a reference that does not ...\n798   18325721  Intrinsics functions are used in compiled lang...\n9970  46791950                                               None",
      "text/html": "<div>\n<style scoped>\n    .dataframe tbody tr th:only-of-type {\n        vertical-align: middle;\n    }\n\n    .dataframe tbody tr th {\n        vertical-align: top;\n    }\n\n    .dataframe thead th {\n        text-align: right;\n    }\n</style>\n<table border=\"1\" class=\"dataframe\">\n  <thead>\n    <tr style=\"text-align: right;\">\n      <th></th>\n      <th>id</th>\n      <th>body</th>\n    </tr>\n  </thead>\n  <tbody>\n    <tr>\n      <th>524</th>\n      <td>47895109</td>\n      <td>Font Awesome 5. This tag is for questions rela...</td>\n    </tr>\n    <tr>\n      <th>5038</th>\n      <td>14332231</td>\n      <td>The Kendo Grid is a Kendo widget that displays...</td>\n    </tr>\n    <tr>\n      <th>8235</th>\n      <td>6053980</td>\n      <td>A weak reference is a reference that does not ...</td>\n    </tr>\n    <tr>\n      <th>798</th>\n      <td>18325721</td>\n      <td>Intrinsics functions are used in compiled lang...</td>\n    </tr>\n    <tr>\n      <th>9970</th>\n      <td>46791950</td>\n      <td>None</td>\n    </tr>\n  </tbody>\n</table>\n</div>"
     },
     "metadata": {},
     "execution_count": 50
    }
   ],
   "source": [
    "print(tag_excerpts.dtypes)\n",
    "print(f\"Number of rows: {len(tag_excerpts)}\")\n",
    "tag_excerpts.sample(5)"
   ]
  },
  {
   "cell_type": "code",
   "execution_count": 51,
   "metadata": {},
   "outputs": [],
   "source": [
    "with open(os.path.join(pathToRoot, \"datasets/tag-excerpts.json\"), 'w') as outfile:\n",
    "    json.dump(tag_excerpts.to_json(), outfile)"
   ]
  },
  {
   "cell_type": "code",
   "execution_count": 52,
   "metadata": {},
   "outputs": [],
   "source": [
    "#and now lastly for the tag wiki\n",
    "QUERY = f\"\"\"\n",
    "SELECT\n",
    "  id, body\n",
    "FROM \n",
    "  bigquery-public-data.stackoverflow.posts_tag_wiki\n",
    "WHERE id IN {tuple(tags.wiki_post_id.values)}\n",
    "LIMIT {datasetLength}\n",
    "\n",
    "\"\"\"\n",
    "\n",
    "tag_wikis = data.query_to_pandas(QUERY)"
   ]
  },
  {
   "cell_type": "code",
   "execution_count": 53,
   "metadata": {},
   "outputs": [
    {
     "output_type": "stream",
     "name": "stdout",
     "text": "id       int64\nbody    object\ndtype: object\n"
    },
    {
     "output_type": "error",
     "ename": "NameError",
     "evalue": "name 'tag_wiki' is not defined",
     "traceback": [
      "\u001b[0;31m---------------------------------------------------------------------------\u001b[0m",
      "\u001b[0;31mNameError\u001b[0m                                 Traceback (most recent call last)",
      "\u001b[0;32m<ipython-input-53-6cf166706b48>\u001b[0m in \u001b[0;36m<module>\u001b[0;34m\u001b[0m\n\u001b[1;32m      1\u001b[0m \u001b[0mprint\u001b[0m\u001b[0;34m(\u001b[0m\u001b[0mtag_wikis\u001b[0m\u001b[0;34m.\u001b[0m\u001b[0mdtypes\u001b[0m\u001b[0;34m)\u001b[0m\u001b[0;34m\u001b[0m\u001b[0;34m\u001b[0m\u001b[0m\n\u001b[0;32m----> 2\u001b[0;31m \u001b[0mprint\u001b[0m\u001b[0;34m(\u001b[0m\u001b[0;34mf\"Number of rows: {len(tag_wiki)}\"\u001b[0m\u001b[0;34m)\u001b[0m\u001b[0;34m\u001b[0m\u001b[0;34m\u001b[0m\u001b[0m\n\u001b[0m\u001b[1;32m      3\u001b[0m \u001b[0mtag_wikis\u001b[0m\u001b[0;34m.\u001b[0m\u001b[0msample\u001b[0m\u001b[0;34m(\u001b[0m\u001b[0;36m5\u001b[0m\u001b[0;34m)\u001b[0m\u001b[0;34m\u001b[0m\u001b[0;34m\u001b[0m\u001b[0m\n",
      "\u001b[0;31mNameError\u001b[0m: name 'tag_wiki' is not defined"
     ]
    }
   ],
   "source": [
    "print(tag_wikis.dtypes)\n",
    "print(f\"Number of rows: {len(tag_wiki)}\")\n",
    "tag_wikis.sample(5)"
   ]
  },
  {
   "cell_type": "code",
   "execution_count": 54,
   "metadata": {},
   "outputs": [],
   "source": [
    "with open(os.path.join(pathToRoot, \"datasets/tag-wikis.json\"), 'w') as outfile:\n",
    "    json.dump(tag_wikis.to_json(), outfile)"
   ]
  }
 ],
 "metadata": {
  "language_info": {
   "codemirror_mode": {
    "name": "ipython",
    "version": 3
   },
   "file_extension": ".py",
   "mimetype": "text/x-python",
   "name": "python",
   "nbconvert_exporter": "python",
   "pygments_lexer": "ipython3",
   "version": "3.7.7-final"
  },
  "orig_nbformat": 2,
  "kernelspec": {
   "name": "python37764bitrnlpptconda2b08e866b02442bcb7052849d949335e",
   "display_name": "Python 3.7.7 64-bit ('rnlppt': conda)"
  }
 },
 "nbformat": 4,
 "nbformat_minor": 2
}