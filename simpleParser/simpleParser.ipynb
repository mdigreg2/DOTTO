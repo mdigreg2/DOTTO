{
 "cells": [
  {
   "cell_type": "code",
   "execution_count": 169,
   "metadata": {},
   "outputs": [
    {
     "name": "stdout",
     "output_type": "stream",
     "text": [
      "['for( 1 in range(10, 1)):\\n\\tpass', 'for( 2 in range(4, 6)):\\n\\tpass', 'for( 8 in range(9, 0)):\\n\\tpass']\n",
      "for( 1 in range(10, 1)):\n",
      "\tpass\n",
      "for( 2 in range(4, 6)):\n",
      "\tpass\n",
      "for( 8 in range(9, 0)):\n",
      "\tpass\n"
     ]
    }
   ],
   "source": [
    "import re\n",
    "#instantiate a dictionary to hold each line of the file as its contents with the line number as its associated key\n",
    "file_dict = {}\n",
    "#a dictionary containing a list of commands\n",
    "command_dict = {\"forloop\" : \"for( &1 in range(&2, &3)):\\n\\tpass\"}\n",
    "\n",
    "#a regular expression which can pull out our command format //..command(arg1:arg2:arg3)\n",
    "regexp = re.compile(r'\\/\\/\\.\\.[a-zA-Z0-9]*\\([a-zA-Z0-9\\_\\-]*:[a-zA-Z0-9\\_\\-]*:[a-zA-Z0-9\\_\\-]*\\)')\n",
    "#regular expression for parsing out our arguments\n",
    "arg_raw_regexp = re.compile(r'[a-zA-Z0-9]*')\n",
    "\n",
    "#empty list made to hold the commands\n",
    "command = []\n",
    "#an empty list instantiated to contain all of the lines of code which do not contain a command\n",
    "deleted_entries = []\n",
    "#empty list containing all of the raw arguments\n",
    "args_raw = []\n",
    "arg1 = []\n",
    "arg2 = []\n",
    "arg3 = []\n",
    "#output strings\n",
    "return_strings = []\n",
    "\n",
    "#the digits 0-9\n",
    "digits = ['0','1', '2', '3', '4', '5', '6', '7', '8', '9']\n",
    "#delimiters for arguments 1, 2, and 3\n",
    "args_delim = [\"&1\", \"&2\", \"&3\"]\n",
    "#list of the arguments which will be used\n",
    "args = [arg1, arg2, arg3]\n",
    "\n",
    "#counter to hold the index the command ends at\n",
    "cmd_end_counter = 0 \n",
    "#counter to get the position of the last char of the command and the start of the arguments\n",
    "arg_start_counter = 4\n",
    "#line number counter\n",
    "line_number = 1\n",
    "\n",
    "#DOTTIN Delimiter\n",
    "DOTTIN = \"//..\"\n",
    "#start of where the args are\n",
    "arg_start_delim = \"(\"\n",
    "#filepath\n",
    "path = \"../sampleCode.java\"\n",
    "\n",
    "\n",
    "#Open the file at the specified path and proceed to create a dictionary of the format:\n",
    "#key = line number ::: contents = line contents\n",
    "file_contents = open(path)          \n",
    "for line in file_contents:   \n",
    "    file_dict[str(line_number)] = file_contents.readline()\n",
    "    line_number += 1\n",
    "\n",
    "#Search through the file content dictionary and remove any entries which do not contain\n",
    "#commands. Remove the whitespace from those that do\n",
    "for key in file_dict:    \n",
    "    if(regexp.search(file_dict[key])):\n",
    "        file_dict[key] = file_dict[key].strip()\n",
    "        pass\n",
    "    else:\n",
    "        deleted_entries.append(key)\n",
    "for entry in deleted_entries:\n",
    "    del file_dict[entry]\n",
    "file_dict\n",
    "\n",
    "#split the input string to parse out the command and the arguments part\n",
    "#note: args_raw contains args as &1:&2:&3) instead of (&1:&2:&3)\n",
    "for key in file_dict:\n",
    "    tempStr = file_dict[key].split(\"//..\")[1]\n",
    "    command.append(tempStr.split(\"(\")[0])\n",
    "    args_raw.append(tempStr.split(\"(\")[1])\n",
    "\n",
    "#split args raw up along : and place them into the args\n",
    "for i in args_raw:\n",
    "    arg1.append(i.split(\":\")[0])\n",
    "    arg2.append(i.split(\":\")[1])\n",
    "    arg3.append(i.split(\":\")[2][:-1])\n",
    "\n",
    "#set the output string by using the command as a key in the command dictionary\n",
    "for index, commands in enumerate(command):\n",
    "    tempStr = command_dict[commands]\n",
    "    for i, arguments in enumerate(args):\n",
    "        tempStr = tempStr.replace(args_delim[i], args[i][index])\n",
    "    return_strings.append(tempStr)\n",
    "    \n",
    "# print(arg1)\n",
    "# print(arg2)\n",
    "# print(arg3)\n",
    "print(return_strings)\n",
    "\n",
    "for i in return_strings:\n",
    "    print(i)"
   ]
  },
  {
   "cell_type": "code",
   "execution_count": null,
   "metadata": {},
   "outputs": [],
   "source": []
  },
  {
   "cell_type": "code",
   "execution_count": null,
   "metadata": {},
   "outputs": [],
   "source": []
  },
  {
   "cell_type": "code",
   "execution_count": null,
   "metadata": {},
   "outputs": [],
   "source": []
  },
  {
   "cell_type": "code",
   "execution_count": null,
   "metadata": {},
   "outputs": [],
   "source": []
  },
  {
   "cell_type": "code",
   "execution_count": null,
   "metadata": {},
   "outputs": [],
   "source": []
  },
  {
   "cell_type": "code",
   "execution_count": null,
   "metadata": {},
   "outputs": [],
   "source": []
  },
  {
   "cell_type": "code",
   "execution_count": 39,
   "metadata": {},
   "outputs": [
    {
     "data": {
      "text/plain": [
       "{'1': ' * To change this license header, choose License Headers in Project Properties.\\n',\n",
       " '2': ' * and open the template in the editor.\\n',\n",
       " '3': 'package calculator;\\n',\n",
       " '4': 'import java.awt.*;\\n',\n",
       " '5': 'import java.util.*;\\n',\n",
       " '6': ' *\\n',\n",
       " '7': ' */\\n',\n",
       " '8': '//..forloop(1:10:1)\\n',\n",
       " '9': '    private JButton[] jba = new JButton[16];\\n',\n",
       " '10': '    private JTextArea text = new JTextArea();\\n',\n",
       " '11': '    private String n1 = new String();\\n',\n",
       " '12': '    private boolean second = false;\\n',\n",
       " '13': \"        super(); //calls the parent's constructor\\n\",\n",
       " '14': '        Font displayFont = new Font(\"Arial\", Font.PLAIN, 100);\\n',\n",
       " '15': '        Container c = getContentPane();  //sets up a container webdev style\\n',\n",
       " '16': '        p.setLayout(new GridLayout(4, 4));\\n',\n",
       " '17': '            jba[i] = new JButton((\"\"+jbaChar[i]));\\n',\n",
       " '18': '            jba[i].addActionListener(new MouseEvent());\\n',\n",
       " '19': '        }\\n',\n",
       " '20': '        //p.add(b);\\n',\n",
       " '21': '        c.add(BorderLayout.NORTH, text);\\n',\n",
       " '22': '        setDefaultCloseOperation(EXIT_ON_CLOSE);\\n',\n",
       " '23': '    }\\n',\n",
       " '24': '     * @param args the command line arguments\\n',\n",
       " '25': '   \\n',\n",
       " '26': '\\n',\n",
       " '27': '    public void actionPerformed(ActionEvent e) {\\n',\n",
       " '28': '        for(int i = 0; i< 16; i++){\\n',\n",
       " '29': '                text.append(jbaChar[i] + \"\");\\n',\n",
       " '30': '                    text.setText(\" \");\\n',\n",
       " '31': '                return;\\n',\n",
       " '32': '            \\n',\n",
       " '33': '    }\\n',\n",
       " '34': '    \\n',\n",
       " '35': '    public static void main(String[] args) {\\n',\n",
       " '36': '        Calculator c = new Calculator();\\n',\n",
       " '37': '    \\n',\n",
       " '38': '\\n',\n",
       " '39': '\\n'}"
      ]
     },
     "execution_count": 39,
     "metadata": {},
     "output_type": "execute_result"
    }
   ],
   "source": [
    "import re\n",
    "file_dict = {}    #instantiate a dictionary to hold each line of the file as its contents with\n",
    "                  #the line number as its associated key\n",
    "line_number = 1       #line number counter\n",
    "path = \"../sampleCode.java\" #filepath\n",
    "file_contents = open(path)                     \n",
    "for line in file_contents:   #create the dictionary\n",
    "    file_dict[str(line_number)] = file_contents.readline()\n",
    "    line_number += 1\n",
    "file_dict"
   ]
  },
  {
   "cell_type": "code",
   "execution_count": 40,
   "metadata": {},
   "outputs": [
    {
     "data": {
      "text/plain": [
       "{'8': '//..forloop(1:10:1)\\n'}"
      ]
     },
     "execution_count": 40,
     "metadata": {},
     "output_type": "execute_result"
    }
   ],
   "source": [
    "#a regular expression which can pull out our command format //..command(arg1:arg2:arg3)\n",
    "regexp = re.compile(r'\\/\\/\\.\\.[a-zA-Z0-9]*\\([a-zA-Z0-9\\_\\-]*:[a-zA-Z0-9\\_\\-]*:[a-zA-Z0-9\\_\\-]*\\)')\n",
    "#an empty list instantiated to contain all of the lines of code which do not contain a command\n",
    "deleted_entries = []\n",
    "for key in file_dict:    #if you find the regular expression in a line then do nothing\n",
    "    if(regexp.search(file_dict[key])):\n",
    "        pass\n",
    "    else:     #if you dont find the regular expression than add the line number to deleted entries\n",
    "        deleted_entries.append(key)\n",
    "for entry in deleted_entries:\n",
    "    del file_dict[entry]   #delete all lines of file_dict which don't contain commands\n",
    "file_dict   #file dict now contains a dictionary of commands\n",
    "#the key is the line number the command was written and the contents is the command"
   ]
  },
  {
   "cell_type": "code",
   "execution_count": 72,
   "metadata": {},
   "outputs": [
    {
     "data": {
      "text/plain": [
       "['forloop']"
      ]
     },
     "execution_count": 72,
     "metadata": {},
     "output_type": "execute_result"
    }
   ],
   "source": [
    "command_dict = {\"forloop\" : \"for( &1 in range(&2, &3)):\\n\\tpass\"}   #a dictionary containing a list of commands\n",
    "digits = ['0','1', '2', '3', '4', '5', '6', '7', '8', '9'] #the digits 0-9\n",
    "command = []  #empty list made to hold the commands\n",
    "arg_raw_regexp = re.compile(r'[a-zA-Z0-9]*')  #regular expression for parsing out our arguments\n",
    "counter = 4 #counter to start after the command intro //..\n",
    "cmd_counter = 0  #counter to get the position of the last char of the command\n",
    "DOTTIN = \"//..\"  #our command\n",
    "args_container = \"(\"  #start of where the args are\n",
    "for key in file_dict:  #for all of the lines with commands\n",
    "    temp_str = file_dict[key][:4]   #if the line was properly identified as a command \n",
    "    if(temp_str == DOTTIN):\n",
    "        for letter in file_dict[key][4:]:    #step through until you reach the start of the arguments\n",
    "            if(letter != args_container):\n",
    "                counter += 1\n",
    "            else:\n",
    "                command.append(file_dict[key][4:counter])  #when you hit the args you know the end index of the command\n",
    "                cmd_counter = counter    #store the command and where the command ended\n",
    "command  "
   ]
  },
  {
   "cell_type": "code",
   "execution_count": 44,
   "metadata": {},
   "outputs": [
    {
     "name": "stdout",
     "output_type": "stream",
     "text": [
      "1  10  1\n"
     ]
    }
   ],
   "source": [
    "args_raw = []    #empty list containing all of the raw arguments\n",
    "arg1 = []\n",
    "arg2 = []\n",
    "arg3 = []\n",
    "for key in file_dict:\n",
    "    args_raw.append(file_dict[key][cmd_counter:])\n",
    "for i in range(len(args_raw)):\n",
    "    args_list_raw = args_raw[i].split(\":\")\n",
    "    arg1.append(args_list_raw[0])\n",
    "    arg2.append(args_list_raw[1])\n",
    "    arg3.append(args_list_raw[2])\n",
    "    arg3[i] = arg3[i][:-2]\n",
    "    arg1[i] = arg1[i][1:]\n",
    "print(arg1[0] + \"  \" + arg2[0] + \"  \" + arg3[0])"
   ]
  },
  {
   "cell_type": "code",
   "execution_count": 45,
   "metadata": {},
   "outputs": [
    {
     "data": {
      "text/plain": [
       "'forloop'"
      ]
     },
     "execution_count": 45,
     "metadata": {},
     "output_type": "execute_result"
    }
   ],
   "source": [
    "command[0]"
   ]
  },
  {
   "cell_type": "code",
   "execution_count": 47,
   "metadata": {},
   "outputs": [
    {
     "data": {
      "text/plain": [
       "'1'"
      ]
     },
     "execution_count": 47,
     "metadata": {},
     "output_type": "execute_result"
    }
   ],
   "source": [
    "arg1[0]"
   ]
  },
  {
   "cell_type": "code",
   "execution_count": 48,
   "metadata": {},
   "outputs": [
    {
     "data": {
      "text/plain": [
       "'10'"
      ]
     },
     "execution_count": 48,
     "metadata": {},
     "output_type": "execute_result"
    }
   ],
   "source": [
    "arg2[0]"
   ]
  },
  {
   "cell_type": "code",
   "execution_count": 49,
   "metadata": {},
   "outputs": [
    {
     "data": {
      "text/plain": [
       "'1'"
      ]
     },
     "execution_count": 49,
     "metadata": {},
     "output_type": "execute_result"
    }
   ],
   "source": [
    "arg3[0]"
   ]
  },
  {
   "cell_type": "code",
   "execution_count": 51,
   "metadata": {},
   "outputs": [],
   "source": [
    "return_code = command_dict[command[0]]"
   ]
  },
  {
   "cell_type": "code",
   "execution_count": 52,
   "metadata": {},
   "outputs": [],
   "source": [
    "args_delim = [\"&1\", \"&2\", \"&3\"]\n",
    "args = [arg1, arg2, arg3]"
   ]
  },
  {
   "cell_type": "code",
   "execution_count": 55,
   "metadata": {},
   "outputs": [
    {
     "data": {
      "text/plain": [
       "'for( 1 in range(10, 1)):\\n\\tpass'"
      ]
     },
     "execution_count": 55,
     "metadata": {},
     "output_type": "execute_result"
    }
   ],
   "source": [
    "for index, item in enumerate(args_delim):\n",
    "    return_code = return_code.replace(item, args[index][0])\n",
    "return_code"
   ]
  }
 ],
 "metadata": {
  "kernelspec": {
   "display_name": "Python 3",
   "language": "python",
   "name": "python3"
  },
  "language_info": {
   "codemirror_mode": {
    "name": "ipython",
    "version": 3
   },
   "file_extension": ".py",
   "mimetype": "text/x-python",
   "name": "python",
   "nbconvert_exporter": "python",
   "pygments_lexer": "ipython3",
   "version": "3.7.4"
  }
 },
 "nbformat": 4,
 "nbformat_minor": 2
}
