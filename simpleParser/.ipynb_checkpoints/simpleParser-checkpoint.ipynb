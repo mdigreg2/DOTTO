{
 "cells": [
  {
   "cell_type": "code",
   "execution_count": 20,
   "metadata": {},
   "outputs": [],
   "source": [
    "import re\n",
    "file_dict = {}\n",
    "counter = 1\n",
    "file_contents = open(\"../sampleCode.java\")\n",
    "                     \n",
    "for line in file_contents:  \n",
    "    file_dict[str(counter)] = file_contents.readline()\n",
    "    counter += 1\n"
   ]
  },
  {
   "cell_type": "code",
   "execution_count": 21,
   "metadata": {},
   "outputs": [
    {
     "data": {
      "text/plain": [
       "{'8': '//..forloop[1:10:1]\\n'}"
      ]
     },
     "execution_count": 21,
     "metadata": {},
     "output_type": "execute_result"
    }
   ],
   "source": [
    "regexp = re.compile(r'\\/\\/\\.\\.[a-zA-Z0-9]*\\[[a-zA-Z0-9\\_\\-]*:[a-zA-Z0-9\\_\\-]*:[a-zA-Z0-9\\_\\-]*\\]')\n",
    "deleted_entries = []\n",
    "for key in file_dict:\n",
    "    if(regexp.search(file_dict[key])):\n",
    "        pass\n",
    "    else:\n",
    "        deleted_entries.append(key)\n",
    "for entry in deleted_entries:\n",
    "    del file_dict[entry]\n",
    "file_dict"
   ]
  },
  {
   "cell_type": "code",
   "execution_count": 37,
   "metadata": {},
   "outputs": [
    {
     "data": {
      "text/plain": [
       "'forloop'"
      ]
     },
     "execution_count": 37,
     "metadata": {},
     "output_type": "execute_result"
    }
   ],
   "source": [
    "command_dict = {\"forloop\" : \"for( &1 in range(&2, &3)):\\n\\tpass\"}\n",
    "digits = ['0','1', '2', '3', '4', '5', '6', '7', '8', '9']\n",
    "command = \"\"\n",
    "arg_raw_regexp = re.compile(r'[a-zA-Z0-9]*')\n",
    "counter = 4\n",
    "cmd_counter = 0\n",
    "DOTTIN = \"//..\"\n",
    "for key in file_dict:\n",
    "    temp_str = file_dict[key][:4]\n",
    "    if(temp_str == DOTTIN):\n",
    "        for letter in file_dict[key][4:]:\n",
    "            if(letter != \"[\"):\n",
    "                counter += 1\n",
    "            else:\n",
    "                command = file_dict[key][4:counter]\n",
    "                cmd_counter = counter\n",
    "command  "
   ]
  },
  {
   "cell_type": "code",
   "execution_count": 47,
   "metadata": {},
   "outputs": [
    {
     "data": {
      "text/plain": [
       "'[1:10:1]\\n'"
      ]
     },
     "execution_count": 47,
     "metadata": {},
     "output_type": "execute_result"
    }
   ],
   "source": [
    "args_raw = \"\"\n",
    "for key in file_dict:\n",
    "    args_raw = file_dict[key][cmd_counter:]\n",
    "args_raw"
   ]
  }
 ],
 "metadata": {
  "kernelspec": {
   "display_name": "Python 3",
   "language": "python",
   "name": "python3"
  },
  "language_info": {
   "codemirror_mode": {
    "name": "ipython",
    "version": 3
   },
   "file_extension": ".py",
   "mimetype": "text/x-python",
   "name": "python",
   "nbconvert_exporter": "python",
   "pygments_lexer": "ipython3",
   "version": "3.7.4"
  }
 },
 "nbformat": 4,
 "nbformat_minor": 2
}
