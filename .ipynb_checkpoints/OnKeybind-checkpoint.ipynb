{
 "cells": [
  {
   "cell_type": "code",
   "execution_count": 6,
   "metadata": {},
   "outputs": [
    {
     "name": "stdout",
     "output_type": "stream",
     "text": [
      "5.1\n",
      "Complete?\n",
      "Opening the file failed.\n"
     ]
    },
    {
     "name": "stderr",
     "output_type": "stream",
     "text": [
      "Exception in Tkinter callback\n",
      "Traceback (most recent call last):\n",
      "  File \"/home/mycicle/git/rescribe/rescriber.py\", line 12, in __init__\n",
      "    self.input_file = open(self.filepath, \"r\")\n",
      "FileNotFoundError: [Errno 2] No such file or directory: 'input.py'\n",
      "\n",
      "During handling of the above exception, another exception occurred:\n",
      "\n",
      "Traceback (most recent call last):\n",
      "  File \"/home/mycicle/anaconda3/envs/rescribe/lib/python3.7/tkinter/__init__.py\", line 1705, in __call__\n",
      "    return self.func(*args)\n",
      "  File \"<ipython-input-6-091a85881619>\", line 16, in DOTTO\n",
      "    r = Rescriber(\"./sampleCode.java\", parser.dottin(\"sampleCode.java\"))\n",
      "  File \"/home/mycicle/git/rescribe/rescriber.py\", line 15, in __init__\n",
      "    exit(1)\n",
      "NameError: name 'exit' is not defined\n"
     ]
    }
   ],
   "source": [
    "from tkinter import *\n",
    "from dotParser import DotParser\n",
    "from rescriber import Rescriber\n",
    "\n",
    "root = Tk()\n",
    "\n",
    "parser = DotParser()\n",
    "#parser.dottin(\"./sampleCode.java\")\n",
    "def key(event):\n",
    "    #print(\"pressed\", str(repr(event.char)))\n",
    "    r = Rescriber(\"./sampleCode.java\", parser.dottin(\"sampleCode.java\"))\n",
    "    r.replaceWithDictionary()\n",
    "def DOTTO(event):\n",
    "    print(\"5.1\")\n",
    "    print(\"Complete?\")\n",
    "    r = Rescriber(\"./sampleCode.java\", parser.dottin(\"sampleCode.java\"))\n",
    "    r.replaceWithDictionary()\n",
    "w = Canvas(root, width=300, height=300)\n",
    "\n",
    "#w.bind(\"<Key>\", key)\n",
    "w.focus_set()\n",
    "w.bind(\"<Control-Key-d>\", DOTTO)\n",
    "#w.bind(\"<1>\", lambda event: w.focus_set())\n",
    "w.pack()\n",
    "root.mainloop()"
   ]
  }
 ],
 "metadata": {
  "kernelspec": {
   "display_name": "Python 3",
   "language": "python",
   "name": "python3"
  },
  "language_info": {
   "codemirror_mode": {
    "name": "ipython",
    "version": 3
   },
   "file_extension": ".py",
   "mimetype": "text/x-python",
   "name": "python",
   "nbconvert_exporter": "python",
   "pygments_lexer": "ipython3",
   "version": "3.7.4"
  }
 },
 "nbformat": 4,
 "nbformat_minor": 2
}
